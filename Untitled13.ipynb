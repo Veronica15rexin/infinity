{
 "cells": [
  {
   "cell_type": "code",
   "execution_count": 1,
   "metadata": {},
   "outputs": [
    {
     "data": {
      "text/plain": [
       "'C:\\\\Users\\\\909664'"
      ]
     },
     "execution_count": 1,
     "metadata": {},
     "output_type": "execute_result"
    }
   ],
   "source": [
    "import PyPDF4\n",
    "import re\n",
    "import os\n",
    "import pandas as pd\n",
    "import shutil\n",
    "#from pikepdf import Pdf\n",
    "os.getcwd()"
   ]
  },
  {
   "cell_type": "code",
   "execution_count": null,
   "metadata": {},
   "outputs": [],
   "source": [
    "String = input()\n",
    "\n",
    "lis=[]\n",
    "path=[]\n",
    "c=[]\n",
    "a=[]\n",
    "z=[]\n",
    "for r , d ,f in os.walk(os.getcwd()+\"//Test Input\"):\n",
    "    for i in f:\n",
    "         if i.lower().endswith('.pdf'):\n",
    "                print(i)\n",
    "                lis .append(i)\n",
    "                path.append(os.path.join(r,i))\n",
    "                for s in path:\n",
    "                    #s.RemoveSecurity()\n",
    "                    object = PyPDF4.PdfFileReader(s)#strict=False\n",
    "                    \n",
    "                    #if object.isEncrypted:\n",
    "                        #object.decrypt('')\n",
    "                        \n",
    "                    NumPages = object.getNumPages()\n",
    "                    for k in range(0, NumPages):\n",
    "                        PageObj = object.getPage(k)\n",
    "                        try:\n",
    "                            Text = PageObj.extractText()\n",
    "                            ResSearch = re.search(String.lower(), Text.lower())\n",
    "                            print(ResSearch,k)\n",
    "                            a.append(ResSearch)\n",
    "                            if ResSearch !=None:\n",
    "                                z.append(k+1)\n",
    "                                c.append(s)\n",
    "                        except:\n",
    "                            if(Text == \"\"):\n",
    "                                Text = textract.process(f, method='tesseract', encoding='utf8')\n",
    "                            "
   ]
  },
  {
   "cell_type": "code",
   "execution_count": null,
   "metadata": {},
   "outputs": [],
   "source": [
    "g=[]\n",
    "[g.append(i.split(\"\\\\\")[-1]) for i in c]\n",
    "c=g\n",
    "data = {'Page_no':z,\n",
    "        'PDF_name':c}\n",
    " \n",
    "\n",
    "df = pd.DataFrame(data)\n",
    "df.drop_duplicates(inplace=True)\n",
    "df=df.reset_index()\n",
    "df.drop(\"index\",axis=1,inplace=True)\n",
    "\n",
    "df"
   ]
  },
  {
   "cell_type": "code",
   "execution_count": null,
   "metadata": {},
   "outputs": [],
   "source": []
  }
 ],
 "metadata": {
  "kernelspec": {
   "display_name": "Python 3 (ipykernel)",
   "language": "python",
   "name": "python3"
  },
  "language_info": {
   "codemirror_mode": {
    "name": "ipython",
    "version": 3
   },
   "file_extension": ".py",
   "mimetype": "text/x-python",
   "name": "python",
   "nbconvert_exporter": "python",
   "pygments_lexer": "ipython3",
   "version": "3.9.7"
  }
 },
 "nbformat": 4,
 "nbformat_minor": 4
}
